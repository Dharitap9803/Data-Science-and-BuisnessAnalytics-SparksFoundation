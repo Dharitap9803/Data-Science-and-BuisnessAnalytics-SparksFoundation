{
  "nbformat": 4,
  "nbformat_minor": 0,
  "metadata": {
    "colab": {
      "private_outputs": true,
      "provenance": []
    },
    "kernelspec": {
      "name": "python3",
      "display_name": "Python 3"
    },
    "language_info": {
      "name": "python"
    }
  },
  "cells": [
    {
      "cell_type": "markdown",
      "source": [
        "GRIP @Sparks Foundation Internship #july2024\n",
        "\n",
        "Task 02: Prediction using Unsupervised ML\n",
        "\n",
        "Author: Dharita Patel\n",
        "\n",
        "Task 02: Prediction using Unsupervised ML\n",
        "\n",
        "Author: Dharita Patel\n",
        "\n",
        "Task : From the given 'IRIS' dataset predict the optimal number of clusters and represents it visually.\n",
        "\n",
        "\n",
        "1. Setup the environment\n",
        "\n",
        "Importing the OS module for changing working Directory.\n",
        "\n",
        "pandas,numpy for data manuplation. Matplotlib,seaborn module for Data Visualisation.\n",
        "\n",
        "sklearn for modelling\n"
      ],
      "metadata": {
        "id": "cYJ44zDZJ4Cc"
      }
    },
    {
      "cell_type": "code",
      "source": [
        "#Importing Libs\n",
        "\n",
        "from sklearn import datasets\n",
        "import pandas as pd\n",
        "import numpy as np\n",
        "import matplotlib.pyplot as plt\n",
        "%matplotlib inline\n",
        "import seaborn as sns\n",
        "sns.set(style=\"white\", color_codes=True)\n",
        "from sklearn.preprocessing import StandardScaler\n",
        "from sklearn.metrics import silhouette_score\n",
        "from sklearn.cluster import KMeans\n",
        "import sklearn.metrics as metrics\n",
        "from mpl_toolkits.mplot3d import Axes3D\n",
        "import warnings\n",
        "warnings.simplefilter(action='ignore', category=FutureWarning)\n",
        "warnings.filterwarnings('ignore')\n",
        "from scipy.cluster.hierarchy import linkage,dendrogram\n",
        "from sklearn.cluster import DBSCAN\n",
        "from sklearn.decomposition import PCA\n",
        "from sklearn.preprocessing import StandardScaler, LabelEncoder\n",
        "from sklearn import preprocessing\n"
      ],
      "metadata": {
        "id": "Adv8jd5uLSiG"
      },
      "execution_count": null,
      "outputs": []
    },
    {
      "cell_type": "markdown",
      "source": [
        "Data Gathering. #Importing the data"
      ],
      "metadata": {
        "id": "S7WIfMXw3KH5"
      }
    },
    {
      "cell_type": "code",
      "source": [
        "iris = pd.read_csv(\"/content/Iris.csv\", encoding='latin1')"
      ],
      "metadata": {
        "id": "7uV7Llp3uSur"
      },
      "execution_count": null,
      "outputs": []
    },
    {
      "cell_type": "code",
      "source": [
        "iris.describe()"
      ],
      "metadata": {
        "id": "sUNOg_X6usce"
      },
      "execution_count": null,
      "outputs": []
    },
    {
      "cell_type": "code",
      "source": [
        "iris.head(151)"
      ],
      "metadata": {
        "id": "VTa4JQ1Lw1Fk"
      },
      "execution_count": null,
      "outputs": []
    },
    {
      "cell_type": "code",
      "source": [
        "iris.info()"
      ],
      "metadata": {
        "id": "87F5pJhqw5Ku"
      },
      "execution_count": null,
      "outputs": []
    },
    {
      "cell_type": "code",
      "source": [
        "iris.Species.unique()"
      ],
      "metadata": {
        "id": "Heqp6hiUNauM"
      },
      "execution_count": null,
      "outputs": []
    },
    {
      "cell_type": "code",
      "source": [
        "# Display the column names\n",
        "print(iris.columns)"
      ],
      "metadata": {
        "id": "Bk2w1kFfxYNs"
      },
      "execution_count": null,
      "outputs": []
    },
    {
      "cell_type": "code",
      "source": [
        "print(iris.head())\n",
        "print('Data shape -->', iris.shape)"
      ],
      "metadata": {
        "id": "-yVMqncQx4hc"
      },
      "execution_count": null,
      "outputs": []
    },
    {
      "cell_type": "code",
      "source": [
        "iris[\"Species\"].value_counts()"
      ],
      "metadata": {
        "id": "wQu2G6dyx_im"
      },
      "execution_count": null,
      "outputs": []
    },
    {
      "cell_type": "code",
      "source": [
        "iris.shape"
      ],
      "metadata": {
        "id": "MMp3Oumtzcua"
      },
      "execution_count": null,
      "outputs": []
    },
    {
      "cell_type": "markdown",
      "source": [
        "Data Preprocessing"
      ],
      "metadata": {
        "id": "bQcI_dYpz6_T"
      }
    },
    {
      "cell_type": "code",
      "source": [
        "data = iris.drop(['Species'], axis=1)\n",
        "y = iris['Species']"
      ],
      "metadata": {
        "id": "v61WYWMZziEP"
      },
      "execution_count": null,
      "outputs": []
    },
    {
      "source": [
        "data.duplicated().sum()"
      ],
      "cell_type": "code",
      "metadata": {
        "id": "EqMYY6sbFuU2"
      },
      "execution_count": null,
      "outputs": []
    },
    {
      "cell_type": "markdown",
      "source": [
        "#checking wether there is any duplicate or any null value exist in the dataset\n",
        "#missing values\n"
      ],
      "metadata": {
        "id": "tmDMP9PYF5pM"
      }
    },
    {
      "cell_type": "code",
      "source": [
        "data.isnull().sum()"
      ],
      "metadata": {
        "id": "gzvfYtGUGFGf"
      },
      "execution_count": null,
      "outputs": []
    },
    {
      "source": [
        "!pip install scikit-learn # Install scikit-learn if you haven't already\n",
        "from sklearn.model_selection import train_test_split # Import the necessary function\n",
        "\n",
        "train, test = train_test_split(iris, test_size = 0.3) # in this our main data is split into train and test\n",
        "# the attribute test_size=0.3 splits the data into 70% and 30% ratio. train=70% and test=30%\n",
        "print(train.shape)\n",
        "print(test.shape)"
      ],
      "cell_type": "code",
      "metadata": {
        "id": "XIfz6eNv_ON8"
      },
      "execution_count": null,
      "outputs": []
    },
    {
      "source": [
        "train_X = train[['SepalLengthCm','SepalWidthCm','PetalLengthCm','PetalWidthCm']] # taking the training data features, use actual column names\n",
        "train_y=train.Species # output of our training data, adjust case if needed\n",
        "test_X= test[['SepalLengthCm','SepalWidthCm','PetalLengthCm','PetalWidthCm']] # taking test data features, use actual column names\n",
        "test_y =test.Species   #output value of test data, adjust case if needed"
      ],
      "cell_type": "code",
      "metadata": {
        "id": "xb5j13GWUZbd"
      },
      "execution_count": null,
      "outputs": []
    },
    {
      "cell_type": "code",
      "source": [
        "train_X.head(2)"
      ],
      "metadata": {
        "id": "QwG4iNFz_Y5i"
      },
      "execution_count": null,
      "outputs": []
    },
    {
      "cell_type": "code",
      "source": [
        "test_X.head(2)\n"
      ],
      "metadata": {
        "id": "OFcbRvzTM-No"
      },
      "execution_count": null,
      "outputs": []
    },
    {
      "cell_type": "code",
      "source": [
        "\n",
        "train_y.head()"
      ],
      "metadata": {
        "id": "JJPaoKj1M-QI"
      },
      "execution_count": null,
      "outputs": []
    },
    {
      "cell_type": "markdown",
      "source": [
        "Support Vector Machine (SVM)¶"
      ],
      "metadata": {
        "id": "l9Oiaa6b_yo6"
      }
    },
    {
      "source": [
        "!pip install scikit-learn\n",
        "from sklearn import svm\n",
        "from sklearn import metrics\n",
        "\n",
        "model = svm.SVC() #select the algorithm\n",
        "model.fit(train_X,train_y) # we train the algorithm with the training data and the training output\n",
        "prediction=model.predict(test_X) #now we pass the testing data to the trained algorithm\n",
        "print('The accuracy of the SVM is:',metrics.accuracy_score(prediction,test_y))#now we check the accuracy of the algorithm.\n",
        "#we pass the predicted output by the model and the actual output"
      ],
      "cell_type": "code",
      "metadata": {
        "id": "3116b2j9_-W3"
      },
      "execution_count": null,
      "outputs": []
    },
    {
      "cell_type": "markdown",
      "source": [
        "linkcode\n",
        "SVM is giving very good accuracy . We will continue to check the accuracy for different models.\n",
        "\n",
        "Now we will follow the same steps as above for training various machine learning algorithms."
      ],
      "metadata": {
        "id": "w4qlkddTAKZf"
      }
    },
    {
      "source": [
        "from sklearn.linear_model import LogisticRegression # Import LogisticRegression\n",
        "\n",
        "model = LogisticRegression()\n",
        "model.fit(train_X,train_y)\n",
        "prediction=model.predict(test_X)\n",
        "print('The accuracy of the Logistic Regression is',metrics.accuracy_score(prediction,test_y))"
      ],
      "cell_type": "code",
      "metadata": {
        "id": "TCwpPyp_AVqu"
      },
      "execution_count": null,
      "outputs": []
    },
    {
      "source": [
        "from sklearn.tree import DecisionTreeClassifier # Import DecisionTreeClassifier\n",
        "\n",
        "model=DecisionTreeClassifier()\n",
        "model.fit(train_X,train_y)\n",
        "prediction=model.predict(test_X)\n",
        "print('The accuracy of the Decision Tree is',metrics.accuracy_score(prediction,test_y))"
      ],
      "cell_type": "code",
      "metadata": {
        "id": "pxXQ9amQAiKE"
      },
      "execution_count": null,
      "outputs": []
    },
    {
      "source": [
        "from sklearn.neighbors import KNeighborsClassifier # Import KNeighborsClassifier\n",
        "\n",
        "model=KNeighborsClassifier(n_neighbors=3) #this examines 3 neighbours for putting the new data into a class\n",
        "model.fit(train_X,train_y)\n",
        "prediction=model.predict(test_X)\n",
        "print('The accuracy of the KNN is',metrics.accuracy_score(prediction,test_y))"
      ],
      "cell_type": "code",
      "metadata": {
        "id": "6aMWqbEXAwbb"
      },
      "execution_count": null,
      "outputs": []
    },
    {
      "cell_type": "markdown",
      "source": [
        "Creating Petals And Sepals Training Data"
      ],
      "metadata": {
        "id": "r2h27ZaoPsKH"
      }
    },
    {
      "source": [
        "# Verify column names and load data if needed\n",
        "print(iris.columns)  # Print available columns to check for typos\n",
        "\n",
        "# If the data isn't loaded, use the appropriate method to load it, for example:\n",
        "!pip install pandas\n",
        "import pandas as pd\n",
        "iris_data = pd.read_csv('/content/Iris.csv')  # Replace '/path/to/your/Iris.csv' with the actual file path\n",
        "\n",
        "# Now try accessing the columns again\n",
        "petal = iris_data[['PetalLengthCm', 'PetalWidthCm', 'Species']] # Use the new DataFrame 'iris_data'\n",
        "sepal = iris_data[['SepalLengthCm', 'SepalWidthCm', 'Species']] # Use the new DataFrame 'iris_data'"
      ],
      "cell_type": "code",
      "metadata": {
        "id": "tVaJtOGxQjXp"
      },
      "execution_count": null,
      "outputs": []
    },
    {
      "cell_type": "code",
      "source": [
        "train_p,test_p=train_test_split(petal,test_size=0.3,random_state=0)  #petals\n",
        "train_x_p=train_p[['PetalWidthCm','PetalLengthCm']]\n",
        "train_y_p=train_p.Species\n",
        "test_x_p=test_p[['PetalWidthCm','PetalLengthCm']]\n",
        "test_y_p=test_p.Species\n",
        "\n",
        "\n",
        "train_s,test_s=train_test_split(sepal,test_size=0.3,random_state=0)  #Sepal\n",
        "train_x_s=train_s[['SepalWidthCm','SepalLengthCm']]\n",
        "train_y_s=train_s.Species\n",
        "test_x_s=test_s[['SepalWidthCm','SepalLengthCm']]\n",
        "test_y_s=test_s.Species"
      ],
      "metadata": {
        "id": "xkY-HdLVRBhk"
      },
      "execution_count": null,
      "outputs": []
    },
    {
      "cell_type": "code",
      "source": [
        "model=svm.SVC()\n",
        "model.fit(train_x_p,train_y_p)\n",
        "prediction=model.predict(test_x_p)\n",
        "print('The accuracy of the SVM using Petals is:',metrics.accuracy_score(prediction,test_y_p))\n",
        "\n",
        "model=svm.SVC()\n",
        "model.fit(train_x_s,train_y_s)\n",
        "prediction=model.predict(test_x_s)\n",
        "print('The accuracy of the SVM using Sepal is:',metrics.accuracy_score(prediction,test_y_s))"
      ],
      "metadata": {
        "id": "p-6s8sIFRHgS"
      },
      "execution_count": null,
      "outputs": []
    },
    {
      "cell_type": "code",
      "source": [
        "model = LogisticRegression()\n",
        "model.fit(train_x_p,train_y_p)\n",
        "prediction=model.predict(test_x_p)\n",
        "print('The accuracy of the Logistic Regression using Petals is:',metrics.accuracy_score(prediction,test_y_p))\n",
        "\n",
        "model.fit(train_x_s,train_y_s)\n",
        "prediction=model.predict(test_x_s)\n",
        "print('The accuracy of the Logistic Regression using Sepals is:',metrics.accuracy_score(prediction,test_y_s))"
      ],
      "metadata": {
        "id": "Jko5qpHBRRS3"
      },
      "execution_count": null,
      "outputs": []
    },
    {
      "cell_type": "code",
      "source": [
        "model=DecisionTreeClassifier()\n",
        "model.fit(train_x_p,train_y_p)\n",
        "prediction=model.predict(test_x_p)\n",
        "print('The accuracy of the Decision Tree using Petals is:',metrics.accuracy_score(prediction,test_y_p))\n",
        "\n",
        "model.fit(train_x_s,train_y_s)\n",
        "prediction=model.predict(test_x_s)\n",
        "print('The accuracy of the Decision Tree using Sepals is:',metrics.accuracy_score(prediction,test_y_s))"
      ],
      "metadata": {
        "id": "YjkR4Je9RVH6"
      },
      "execution_count": null,
      "outputs": []
    },
    {
      "cell_type": "code",
      "source": [
        "model=KNeighborsClassifier(n_neighbors=3)\n",
        "model.fit(train_x_p,train_y_p)\n",
        "prediction=model.predict(test_x_p)\n",
        "print('The accuracy of the KNN using Petals is:',metrics.accuracy_score(prediction,test_y_p))\n",
        "\n",
        "model.fit(train_x_s,train_y_s)\n",
        "prediction=model.predict(test_x_s)\n",
        "print('The accuracy of the KNN using Sepals is:',metrics.accuracy_score(prediction,test_y_s))"
      ],
      "metadata": {
        "id": "9OLMQdkpRiqk"
      },
      "execution_count": null,
      "outputs": []
    },
    {
      "cell_type": "markdown",
      "source": [
        "Observations:\n",
        "\n",
        "Using Petals over Sepal for training the data gives a much better accuracy.\n",
        "This was expected as we saw in the heatmap above that the correlation between the Sepal Width and Length was very low whereas the correlation between Petal Width and Length was very high."
      ],
      "metadata": {
        "id": "LontflUuRvED"
      }
    },
    {
      "cell_type": "markdown",
      "source": [
        "Data Visualization\n"
      ],
      "metadata": {
        "id": "k6XVOJWaMv6m"
      }
    },
    {
      "cell_type": "markdown",
      "source": [
        "We can see that there are 50 samples each of all the Iris Species in the data set."
      ],
      "metadata": {
        "id": "fJaHtmwsPVhj"
      }
    },
    {
      "cell_type": "code",
      "source": [
        "# Define the color palette based on the default colors used by pandas for the pie chart\n",
        "colors = sns.color_palette('pastel', len(iris['Species'].unique()))\n",
        "f, ax = plt.subplots(1, 2, figsize=(12, 6))\n",
        "# Pie chart\n",
        "iris['Species'].value_counts().plot.pie(explode=[0.1, 0.1, 0.1], autopct='%1.1f%%', colors=colors, ax=ax[0], shadow=True)\n",
        "ax[0].set_title('Iris Species Count')\n",
        "ax[0].set_ylabel('')  # Remove the y-label for better aesthetics\n",
        "# Count plot\n",
        "sns.countplot(x='Species', data=iris, palette=colors, ax=ax[1])\n",
        "ax[1].set_title('Iris Species Count')\n",
        "plt.tight_layout()\n",
        "plt.show()\n",
        "\n"
      ],
      "metadata": {
        "id": "e6gwuEf7Mz4R"
      },
      "execution_count": null,
      "outputs": []
    },
    {
      "cell_type": "markdown",
      "source": [
        "FacetGrid Plot"
      ],
      "metadata": {
        "id": "yl0NWwgFPcud"
      }
    },
    {
      "source": [
        "!pip install seaborn --upgrade\n",
        "# Plotting species for Sepal\n",
        "sns.FacetGrid(iris, hue=\"Species\", height=4) \\\n",
        "   .map(plt.scatter, \"SepalLengthCm\", \"SepalWidthCm\") \\\n",
        "   .add_legend();"
      ],
      "cell_type": "code",
      "metadata": {
        "id": "F-___mXdPn6l"
      },
      "execution_count": null,
      "outputs": []
    },
    {
      "cell_type": "markdown",
      "source": [
        "Observed that the species are nearly linearly separable with petal size, but sepal sizes are more mixed.This is an indication that the Petals can help in better and accurate Predictions over the Sepal"
      ],
      "metadata": {
        "id": "Y1Yo8debQj-E"
      }
    },
    {
      "cell_type": "code",
      "source": [
        "# Plotting species for petals\n",
        "sns.FacetGrid(iris, hue=\"Species\", height=4) \\\n",
        "   .map(plt.scatter, \"PetalLengthCm\", \"PetalWidthCm\") \\\n",
        "   .add_legend();"
      ],
      "metadata": {
        "id": "xd6RSfdcP1CS"
      },
      "execution_count": null,
      "outputs": []
    },
    {
      "cell_type": "code",
      "source": [
        "fig = iris[iris.Species=='Iris-setosa'].plot(kind='scatter',x='SepalLengthCm',y='SepalWidthCm',color='blue', label='Setosa')\n",
        "iris[iris.Species=='Iris-versicolor'].plot(kind='scatter',x='SepalLengthCm',y='SepalWidthCm',color='orange', label='versicolor',ax=fig)\n",
        "iris[iris.Species=='Iris-virginica'].plot(kind='scatter',x='SepalLengthCm',y='SepalWidthCm',color='green', label='virginica', ax=fig)\n",
        "fig.set_xlabel(\"Sepal Length\")\n",
        "fig.set_ylabel(\"Sepal Width\")\n",
        "fig.set_title(\"Sepal Length VS Width\")\n",
        "fig=plt.gcf()\n",
        "fig.set_size_inches(10,6)\n",
        "plt.show()"
      ],
      "metadata": {
        "id": "WWOko5KOQPKG"
      },
      "execution_count": null,
      "outputs": []
    },
    {
      "cell_type": "markdown",
      "source": [
        "BOXPLOT"
      ],
      "metadata": {
        "id": "wukRukXQQpFJ"
      }
    },
    {
      "cell_type": "code",
      "source": [
        "colors = sns.color_palette('pastel', len(iris['Species'].unique()))\n",
        "fig = plt.figure(figsize=(10, 7))\n",
        "sns.boxplot(x='Species', y='SepalLengthCm', data=iris, palette=colors)\n",
        "sns.stripplot(x='Species', y='SepalLengthCm', data=iris, jitter=True, edgecolor='gray', palette=colors, dodge=True)\n",
        "plt.title('Box Plot and Strip Plot of Sepal Length by Species')\n",
        "plt.show()\n",
        "\n"
      ],
      "metadata": {
        "id": "SRF_ZdhgQnFY"
      },
      "execution_count": null,
      "outputs": []
    },
    {
      "cell_type": "code",
      "source": [
        "iris.hist(edgecolor='black', linewidth=1.2)\n",
        "fig=plt.gcf()\n",
        "fig.set_size_inches(12,6)\n",
        "plt.show()"
      ],
      "metadata": {
        "id": "iXY1qQATSO4Z"
      },
      "execution_count": null,
      "outputs": []
    },
    {
      "cell_type": "code",
      "source": [
        "tmp = iris.drop('Id', axis=1)\n",
        "tmp.hist(edgecolor='black', linewidth=1.2)\n",
        "fig=plt.gcf()\n",
        "fig.set_size_inches(12,6)\n",
        "plt.show()"
      ],
      "metadata": {
        "id": "V-S3i-ICSUaR"
      },
      "execution_count": null,
      "outputs": []
    },
    {
      "cell_type": "code",
      "source": [
        "colors = sns.color_palette('pastel', len(iris['Species'].unique()))\n",
        "plt.figure(figsize=(10, 10))\n",
        "plt.subplot(2, 2, 1)\n",
        "sns.violinplot(x='Species', y='PetalLengthCm', data=iris, palette=colors)\n",
        "plt.title('Petal Length by Species')\n",
        "plt.subplot(2, 2, 2)\n",
        "sns.violinplot(x='Species', y='PetalWidthCm', data=iris, palette=colors)\n",
        "plt.title('Petal Width by Species')\n",
        "plt.subplot(2, 2, 3)\n",
        "sns.violinplot(x='Species', y='SepalLengthCm', data=iris, palette=colors)\n",
        "plt.title('Sepal Length by Species')\n",
        "plt.subplot(2, 2, 4)\n",
        "sns.violinplot(x='Species', y='SepalWidthCm', data=iris, palette=colors)\n",
        "plt.title('Sepal Width by Species')\n",
        "plt.tight_layout()\n",
        "plt.show()\n"
      ],
      "metadata": {
        "id": "xqg8Oe8QSTv0"
      },
      "execution_count": null,
      "outputs": []
    },
    {
      "cell_type": "markdown",
      "source": [
        "This shows how similar versicolor and virginica are, at least with the given features.But there could be features that you didn't measure that would more clearly separate the species.It's the same for any unsupervised learning - you need to have the right features to separate the groups in the best way."
      ],
      "metadata": {
        "id": "CuKexmPONj_J"
      }
    },
    {
      "cell_type": "code",
      "source": [
        "sns.pairplot(tmp, hue=\"Species\", diag_kind=\"hist\", size=1.6);"
      ],
      "metadata": {
        "id": "sazyaB5tTSdV"
      },
      "execution_count": null,
      "outputs": []
    },
    {
      "cell_type": "code",
      "source": [
        "# Assuming 'a' is your DataFrame\n",
        "# Convert columns to numeric where possible\n",
        "a_numeric = a.apply(pd.to_numeric, errors='coerce')\n",
        "\n",
        "# Drop columns that are still non-numeric\n",
        "a_numeric = a_numeric.dropna(axis=1, how='all')\n",
        "\n",
        "# Calculate the correlation matrix for numeric columns only\n",
        "corr_matrix = a_numeric.corr()\n",
        "\n",
        "# Plot the heatmap\n",
        "plt.figure(figsize=(8, 5))\n",
        "sns.heatmap(corr_matrix, linecolor='blue', linewidths=1, cmap='afmhot_r', annot=True)\n",
        "plt.show()"
      ],
      "metadata": {
        "id": "mr9TT9df5ya-"
      },
      "execution_count": null,
      "outputs": []
    },
    {
      "cell_type": "markdown",
      "source": [
        "Converting Species to numeric"
      ],
      "metadata": {
        "id": "lVZXPxehOSFd"
      }
    },
    {
      "source": [
        "# Verify if the 'Species' column exists in your DataFrame\n",
        "print(iris.columns)\n",
        "\n",
        "# Use the correct column name 'Species' for the 'hue' argument\n",
        "sns.pairplot(iris, hue=\"Species\", height=2)"
      ],
      "cell_type": "code",
      "metadata": {
        "id": "H3g-YeczVff1"
      },
      "execution_count": null,
      "outputs": []
    },
    {
      "cell_type": "code",
      "source": [
        "def y_label (invalue):\n",
        "    if invalue == 'Iris-setosa' :\n",
        "        return 1\n",
        "    elif invalue == 'Iris-virginica' :\n",
        "        return 0\n",
        "    else :\n",
        "        return 2\n",
        "df1 = pd.DataFrame(data=y.values, columns=['species'])\n",
        "\n",
        "df1['index']=df1['species'].apply(y_label)"
      ],
      "metadata": {
        "id": "l850hNkNMvMU"
      },
      "execution_count": null,
      "outputs": []
    },
    {
      "cell_type": "markdown",
      "source": [
        "4 Data Preparation\n",
        "The data we are using to build a clustering should\n",
        "\n",
        "    1. Always be numeric and\n",
        "  2.should always be on same scale\n",
        "(i) Data Type"
      ],
      "metadata": {
        "id": "32equ2MQObk1"
      }
    },
    {
      "cell_type": "code",
      "source": [
        "data.dtypes"
      ],
      "metadata": {
        "id": "OuwVlBWnOXKF"
      },
      "execution_count": null,
      "outputs": []
    },
    {
      "cell_type": "markdown",
      "source": [
        "The features we are using for clustering are numeric"
      ],
      "metadata": {
        "id": "VvsB2FYTOsDK"
      }
    },
    {
      "cell_type": "markdown",
      "source": [
        "(ii).Scaling the data"
      ],
      "metadata": {
        "id": "X2Izg0uHOvmQ"
      }
    },
    {
      "cell_type": "code",
      "source": [
        "std_scale = StandardScaler().fit(data)\n",
        "data_scaled = std_scale.transform(data)\n",
        "X_scaled = pd.DataFrame(data_scaled, columns = data.columns)\n",
        "X_scaled.sample(5)"
      ],
      "metadata": {
        "id": "dPD5RX0-OtEy"
      },
      "execution_count": null,
      "outputs": []
    },
    {
      "cell_type": "markdown",
      "source": [
        "Hence before we feed a data to a clustering algorithm it becomes imperative to bring our data on the same scale by using StandardScaler"
      ],
      "metadata": {
        "id": "o3cd1c7pPNku"
      }
    },
    {
      "cell_type": "code",
      "source": [
        "a = sns.load_dataset('iris')\n",
        "colors = sns.color_palette('pastel', len(a['species'].unique()))\n",
        "sns.set(style='whitegrid')\n",
        "ax = sns.stripplot(x='species', y='sepal_length', data=a, palette=colors, jitter=True, edgecolor='gray')\n",
        "plt.title('Iris Dataset - Sepal Length by Species')\n",
        "plt.show()"
      ],
      "metadata": {
        "id": "mrSyktlMPOSC"
      },
      "execution_count": null,
      "outputs": []
    },
    {
      "cell_type": "code",
      "source": [
        "# Count plot\n",
        "sns.countplot(x='species', data=a, palette=\"OrRd\")\n",
        "plt.title(\"Count of different species in Iris dataset\")\n",
        "plt.show()"
      ],
      "metadata": {
        "id": "KdvkhDr9QjWt"
      },
      "execution_count": null,
      "outputs": []
    },
    {
      "cell_type": "code",
      "source": [
        "# Create a DataFrame\n",
        "data = pd.DataFrame({\n",
        "    'Id': range(1, 151),\n",
        "    'SepalLengthCm': np.random.rand(150) * 4 + 4,\n",
        "    'SepalWidthCm': np.random.rand(150) * 2 + 2,\n",
        "    'PetalLengthCm': np.random.rand(150) * 5 + 1,\n",
        "    'PetalWidthCm': np.random.rand(150) * 2\n",
        "})\n",
        "\n",
        "# Adding a dummy 'Species' column for demonstration\n",
        "species = ['Setosa'] * 50 + ['Versicolor'] * 50 + ['Virginica'] * 50\n",
        "data['Species'] = species\n",
        "\n",
        "# Verify the column names in your DataFrame\n",
        "print(data.columns)\n",
        "\n",
        "# Create a PairGrid using the correct column name for species\n",
        "g = sns.PairGrid(data, hue=\"Species\")\n",
        "g.map_diag(sns.histplot)\n",
        "g.map_offdiag(sns.scatterplot)\n",
        "g.add_legend()\n",
        "\n",
        "plt.show()"
      ],
      "metadata": {
        "id": "YS_LcSZm6_Bj"
      },
      "execution_count": null,
      "outputs": []
    },
    {
      "cell_type": "code",
      "source": [
        "sns.set(style=\"white\")\n",
        "g = sns.PairGrid(data, hue=\"Species\")\n",
        "g.map_upper(sns.scatterplot)\n",
        "g.map_lower(sns.kdeplot, fill=True)\n",
        "g.map_diag(sns.histplot, kde=True)\n",
        "g.add_legend()\n",
        "plt.show()"
      ],
      "metadata": {
        "id": "VSLApHtq6-nC"
      },
      "execution_count": null,
      "outputs": []
    },
    {
      "cell_type": "code",
      "source": [
        "from pandas.plotting import andrews_curves\n",
        "# Example DataFrame (replace this with your actual DataFrame)\n",
        "df1 = pd.DataFrame({\n",
        "    'Id': range(1, 151),\n",
        "    'SepalLengthCm': np.random.rand(150) * 4 + 4,\n",
        "    'SepalWidthCm': np.random.rand(150) * 2 + 2,\n",
        "    'PetalLengthCm': np.random.rand(150) * 5 + 1,\n",
        "    'PetalWidthCm': np.random.rand(150) * 2,\n",
        "    'Species': ['Setosa'] * 50 + ['Versicolor'] * 50 + ['Virginica'] * 50\n",
        "})\n",
        "\n",
        "# Drop the 'Id' column and create an Andrews curves plot\n",
        "andrews_curves(df1.drop(\"Id\", axis=1), \"Species\")\n",
        "plt.show()"
      ],
      "metadata": {
        "id": "sGrDy5SV7eLC"
      },
      "execution_count": null,
      "outputs": []
    },
    {
      "cell_type": "code",
      "source": [
        "from pandas.plotting import parallel_coordinates\n",
        "parallel_coordinates(df1.drop(\"Id\", axis=1), \"Species\")"
      ],
      "metadata": {
        "id": "AcD1dru67lZg"
      },
      "execution_count": null,
      "outputs": []
    },
    {
      "cell_type": "code",
      "source": [
        "# Example DataFrame (replace this with your actual DataFrame)\n",
        "df1 = pd.DataFrame({\n",
        "    'SepalLengthCm': np.random.rand(150) * 4 + 4,\n",
        "    'SepalWidthCm': np.random.rand(150) * 2 + 2\n",
        "})\n",
        "\n",
        "with sns.axes_style('white'):\n",
        "    sns.jointplot(x=\"SepalLengthCm\", y=\"SepalWidthCm\", data=df1, kind='kde', color=\"#900C3F\")\n",
        "\n",
        "plt.show()"
      ],
      "metadata": {
        "id": "ltXR5x1N7k3L"
      },
      "execution_count": null,
      "outputs": []
    },
    {
      "cell_type": "code",
      "source": [
        "# Convert the 'Species' column to a numerical representation\n",
        "data['Species'] = data['Species'].astype('category').cat.codes\n",
        "\n",
        "# Calculate the correlation matrix\n",
        "iris1 = data.corr()\n",
        "\n",
        "# Create the heatmap\n",
        "fig,ax=plt.subplots(figsize=(10,10))\n",
        "sns.heatmap(iris1,vmin=0,vmax=1,square=True,annot=True,linewidth=1)\n",
        "plt.show()"
      ],
      "metadata": {
        "id": "_jBv3UDu-wRV"
      },
      "execution_count": null,
      "outputs": []
    },
    {
      "cell_type": "markdown",
      "source": [
        "4 (a) K-Means algorithm\n",
        "\n",
        "Lets try to visulaize the data if we can segreggate into clusters\n",
        "\n",
        "(i).Scatter plot to visualise the scaled data and intial centriods for given K -clusters (K-Means)"
      ],
      "metadata": {
        "id": "wLEJm5r7Qsva"
      }
    },
    {
      "cell_type": "code",
      "source": [
        "iris = sns.load_dataset('iris')\n",
        "data = iris.drop(['species'], axis=1)\n",
        "scaler = StandardScaler()\n",
        "data_scaled = scaler.fit_transform(data)\n",
        "\n",
        "def plot_kmeans_scale(k):\n",
        "    kmeans_model = KMeans(n_clusters=k, random_state=123)\n",
        "    kmeans_model.fit(data_scaled)\n",
        "\n",
        "    # Make predictions\n",
        "    labels = kmeans_model.predict(data_scaled)\n",
        "\n",
        "    # Get centroids\n",
        "    centroids = kmeans_model.cluster_centers_\n",
        "\n",
        "    fig = plt.figure(figsize=(4,4))\n",
        "    ax = fig.add_subplot(111, projection='3d')\n",
        "\n",
        "    # Colors for each cluster\n",
        "    colors = sns.color_palette('hsv', k)\n",
        "\n",
        "    for i in range(k):\n",
        "        points = data_scaled[labels == i]\n",
        "        ax.scatter(points[:, 3], points[:, 0], points[:, 2], s=50, color=colors[i], label=f'Cluster {i+1}')\n",
        "\n",
        "    # Plot centroids\n",
        "    ax.scatter(centroids[:, 3], centroids[:, 0], centroids[:, 2], s=200, color='red', marker='*', label='Centroids')\n",
        "\n",
        "    ax.set_xlabel(\"Petal Width (scaled)\")\n",
        "    ax.set_ylabel(\"Sepal Length (scaled)\")\n",
        "    ax.set_zlabel(\"Petal Length (scaled)\")\n",
        "    plt.title(f'K-Means Clustering with k={k}')\n",
        "    plt.legend()\n",
        "    plt.show()\n",
        "\n",
        "# Plot k-means clustering for k=2 to k=5\n",
        "k = 5\n",
        "for i in range(2, k+1):\n",
        "    plot_kmeans_scale(i)\n"
      ],
      "metadata": {
        "id": "xdYnOn6yQtw9"
      },
      "execution_count": null,
      "outputs": []
    },
    {
      "cell_type": "markdown",
      "source": [
        " Initial centroids are indicated as red stars.\n",
        " Starting with k =2 to 5 we ran the code,\n",
        "            Squared Euclidean distance measures the distance between each data point and the centroid, then the centroid will be re-calculated until the stop criteria and the following are screen shots of the results.\n",
        "            A good choice of number of clusters will lead to compact and well separated clusters.\n",
        "            That is to maximize intra-cluster similarity, and minimize inter-cluster similarity.\n",
        "            \n",
        "Measure the compactness of clusters( inter-cluster similarity), We can compute a measure called \"Within Sum of Squares for this cluster(WSS)\"for each cluster or we can take an average."
      ],
      "metadata": {
        "id": "I-vcIdvHScP4"
      }
    },
    {
      "source": [
        "# Assuming 'data_scaled' from your previous code is the feature data you want to cluster\n",
        "kmeans = KMeans(n_clusters = 3, init = 'k-means++',\n",
        "                max_iter = 300, n_init = 10, random_state = 0)\n",
        "y_kmeans = kmeans.fit_predict(data_scaled) # Use the defined variable 'data_scaled'\n",
        "y_kmeans"
      ],
      "cell_type": "code",
      "metadata": {
        "id": "gw8daYWS-Uhu"
      },
      "execution_count": null,
      "outputs": []
    },
    {
      "cell_type": "code",
      "source": [
        "kmeans.cluster_centers_"
      ],
      "metadata": {
        "id": "ZLDhglKk-bt4"
      },
      "execution_count": null,
      "outputs": []
    },
    {
      "cell_type": "markdown",
      "source": [
        "(ii) Finding optimal number of clusters - Plot Scree pot/Elbow Plot\n",
        "The technique we use to determine optimum K, the number of clusters, is called the elbow method."
      ],
      "metadata": {
        "id": "vmRtBmzwSgY3"
      }
    },
    {
      "cell_type": "code",
      "source": [
        "k_range = range(1, 10)\n",
        "WSS = []\n",
        "for k in k_range:\n",
        "    kmeans_model = KMeans(n_clusters=k, random_state=123)\n",
        "    kmeans_model.fit(data_scaled)\n",
        "    WSS.append(kmeans_model.inertia_)\n",
        "plt.figure(figsize=(7, 4))\n",
        "plt.plot(k_range, WSS, marker='o', linestyle='--', color='b')\n",
        "plt.xlabel(\"Number of clusters (k)\")\n",
        "plt.ylabel(\"Within-cluster WSS\")\n",
        "plt.title(\"Scree Plot (Elbow Method) with Optimal Number of Clusters\")\n",
        "\n",
        "optimal_k = 3\n",
        "plt.axvline(x=optimal_k, color='r', linestyle='--')\n",
        "plt.scatter(optimal_k, WSS[optimal_k-1], color='red', s=100, zorder=5)  # Highlight the elbow point\n",
        "plt.text(optimal_k + 0.5, WSS[optimal_k-1] + 500, f'Optimal k={optimal_k}', color='red')\n",
        "\n",
        "plt.grid(True)\n",
        "plt.show()\n",
        "\n"
      ],
      "metadata": {
        "id": "pLPwhEAUS2Lv"
      },
      "execution_count": null,
      "outputs": []
    },
    {
      "cell_type": "code",
      "source": [
        "WSS"
      ],
      "metadata": {
        "id": "CE4UxlMyUjUU"
      },
      "execution_count": null,
      "outputs": []
    },
    {
      "cell_type": "code",
      "source": [
        "for i in range(2,8):\n",
        "    labels=KMeans(n_clusters=i,random_state=123).fit(data_scaled).labels_\n",
        "    print (\"Silhoutte score for k= \"+str(i)+\" is \"+str(metrics.silhouette_score(data_scaled,labels,metric=\"euclidean\",random_state=123)))\n"
      ],
      "metadata": {
        "id": "I4O-YUF0UrL3"
      },
      "execution_count": null,
      "outputs": []
    },
    {
      "cell_type": "markdown",
      "source": [
        "The silhouette score is a measure of how similar an object is to its own cluster compared to other clusters (separation). The value of this messure range from -1 to 1 and higher the value indicates maximum similarity in its own cluster."
      ],
      "metadata": {
        "id": "fQP5nOxUUzji"
      }
    },
    {
      "cell_type": "code",
      "source": [
        "scores = metrics.silhouette_samples(data_scaled, labels)\n",
        "sns.distplot(scores);"
      ],
      "metadata": {
        "id": "JBlU8oDhU2E2"
      },
      "execution_count": null,
      "outputs": []
    },
    {
      "cell_type": "code",
      "source": [
        "df_scores = pd.DataFrame()\n",
        "df_scores['SilhouetteScore'] = scores\n",
        "df_scores['Species'] = iris['species']\n",
        "df_scores.hist(by='Species', column='SilhouetteScore', range=(0,1.0), bins=20);\n",
        "sns.pairplot(df_scores, hue=\"Species\", size=3);"
      ],
      "metadata": {
        "id": "wNHirsrh1kCn"
      },
      "execution_count": null,
      "outputs": []
    },
    {
      "cell_type": "markdown",
      "source": [
        "(iii). K-means clustering with 3 optimal Clusters"
      ],
      "metadata": {
        "id": "pbNh1hHb19RW"
      }
    },
    {
      "cell_type": "code",
      "source": [
        "km = KMeans(n_clusters=3, random_state=123)\n",
        "km.fit(data_scaled)\n",
        "print('inertia with clusters=3 -->' ,km.inertia_)\n",
        "km.cluster_centers_"
      ],
      "metadata": {
        "id": "KBOijHns16lS"
      },
      "execution_count": null,
      "outputs": []
    },
    {
      "cell_type": "markdown",
      "source": [
        "inertia with clusters=3 --> 177.05608895062977\n",
        "array([[ 1.14317894,  1.03542672, -0.07079946,  1.04224753,  1.09269889],\n",
        "       [-1.1547262 , -1.01457897,  0.84230679, -1.30487835, -1.25512862],\n",
        "       [ 0.07560189,  0.03894137, -0.73184462,  0.30676007,  0.21508647]])\n",
        "       \n",
        "(iv) Make predictions on the lables using K=3\n"
      ],
      "metadata": {
        "id": "o55JNlhf2EXm"
      }
    },
    {
      "cell_type": "code",
      "source": [
        "predicted_cluster = km.predict(data_scaled)\n",
        "predicted_labels = km.labels_"
      ],
      "metadata": {
        "id": "1kmpKmXN2FWF"
      },
      "execution_count": null,
      "outputs": []
    },
    {
      "cell_type": "markdown",
      "source": [
        "(v). Plot the scaled data partitioned into optimal clusters K=3"
      ],
      "metadata": {
        "id": "58pSLVjA2Pf0"
      }
    },
    {
      "source": [
        "# Verify the column names in your DataFrame\n",
        "print(iris.columns)\n",
        "\n",
        "# Drop the 'Species' column, handling potential misspellings\n",
        "if 'Species' in iris.columns:\n",
        "    data = iris.drop(columns='Species')\n",
        "elif 'species' in iris.columns: # Check for lowercase 'species'\n",
        "    data = iris.drop(columns='species')\n",
        "# Add similar checks for other potential misspellings if necessary\n",
        "\n",
        "# ... rest of your code ...\n",
        "\n",
        "scaler = StandardScaler()\n",
        "data_scaled = scaler.fit_transform(data)\n",
        "\n",
        "# ... remaining code (unchanged) ...\n",
        "\n",
        "# Fit the KMeans model and predict labels\n",
        "kmeans_model = KMeans(n_clusters=3, random_state=123)\n",
        "kmeans_model.fit(data_scaled)\n",
        "predicted_labels = kmeans_model.predict(data_scaled)\n",
        "\n",
        "# Plotting\n",
        "fig = plt.figure(1, figsize=(7, 7))\n",
        "ax = fig.add_subplot(111, projection='3d')\n",
        "ax.scatter(data_scaled[:, 3], data_scaled[:, 0], data_scaled[:, 2],\n",
        "           c=predicted_labels.astype(float), cmap='jet', edgecolor=\"k\", s=150)\n",
        "ax.set_xlabel(\"Petal width\")\n",
        "ax.set_ylabel(\"Sepal length\")\n",
        "ax.set_zlabel(\"Petal length\")\n",
        "plt.title(\"K Means\", fontsize=14)\n",
        "plt.show()"
      ],
      "cell_type": "code",
      "metadata": {
        "id": "jY7vj61G30mT"
      },
      "execution_count": null,
      "outputs": []
    },
    {
      "cell_type": "markdown",
      "source": [
        "(vi) Comparing Clustered data with original data for defining boundaries of 3 clusters(k-means)"
      ],
      "metadata": {
        "id": "HM9JQU794J3l"
      }
    },
    {
      "source": [
        "from matplotlib import cm\n",
        "\n",
        "fig = plt.figure(figsize=plt.figaspect(0.25))\n",
        "ax = fig.add_subplot(1, 2, 1, projection='3d')\n",
        "\n",
        "# Create an index for the color mapping if 'df1' is not available\n",
        "index_for_color = range(len(data_scaled))\n",
        "\n",
        "surf =ax.scatter(data_scaled[:, 3], data_scaled[:, 0],data_scaled[:, 2],\n",
        "          c=index_for_color,  cmap='gist_rainbow',edgecolor=\"k\", s=150) # Use the new index\n",
        "ax.set_xlabel(\"Petal width\")\n",
        "ax.set_ylabel(\"Sepal length\")\n",
        "ax.set_zlabel(\"Petal length\")\n",
        "\n",
        "plt.title(\"Original data-IRIS\", fontsize=14)\n",
        "\n",
        "fig.colorbar(surf, shrink=0.5, aspect=10)\n",
        "\n",
        "ax = fig.add_subplot(1, 2, 2, projection='3d')\n",
        "\n",
        "# Use float instead of np.float\n",
        "ax.scatter(data_scaled[:, 3], data_scaled[:, 0], data_scaled[:, 2],\n",
        "           c=predicted_labels.astype(float), cmap='jet',edgecolor='k', s=150)\n",
        "ax.set_xlabel(\"Petal width\")\n",
        "ax.set_ylabel(\"Sepal length\")\n",
        "ax.set_zlabel(\"Petal length\")\n",
        "plt.title(\"K Means Clustering -IRIS\", fontsize=14)\n",
        "plt.show()"
      ],
      "cell_type": "code",
      "metadata": {
        "id": "paPgeXQKWVuk"
      },
      "execution_count": null,
      "outputs": []
    },
    {
      "cell_type": "markdown",
      "source": [
        "Observations\n",
        "In conclusion, from Silhouette score and Scree plot, we can be clustered to 3 main groups of species :\n",
        "\n",
        "we can infer that the sepal sizes are more mixed, so the clustering algorithm cant vary much difference between two species i.e versicolor and virginica species. And also note that the species are nearly linearly separable with petal size, we can compare this range of values with the original data (which is not scaled)\n"
      ],
      "metadata": {
        "id": "hE54lvGU5Eaw"
      }
    },
    {
      "cell_type": "markdown",
      "source": [
        "(vi) Create cluster profiles compare with Original Data labels"
      ],
      "metadata": {
        "id": "0qr0nkEn5GEw"
      }
    },
    {
      "cell_type": "code",
      "source": [
        "def predict_species (invalue):\n",
        "    if invalue == 1:\n",
        "        return 'Iris-setosa'\n",
        "    elif invalue == 0 :\n",
        "        return 'Iris-virginica'\n",
        "    else :\n",
        "        return 'Iris-versicolor'\n",
        "df1['predict_label']= pd.DataFrame(data=predicted_labels, columns=['predict_label'])\n",
        "\n",
        "df1['predict_species']=df1['predict_label'].apply(predict_species)"
      ],
      "metadata": {
        "id": "qeFZKRSb5I36"
      },
      "execution_count": null,
      "outputs": []
    },
    {
      "source": [
        "# Add the 'species' list as a column to the DataFrame\n",
        "df1['species'] = species\n",
        "\n",
        "sum(np.where((df1['species']!=df1['predict_species']),1,0))"
      ],
      "cell_type": "code",
      "metadata": {
        "id": "_oFUo-1OWg__"
      },
      "execution_count": null,
      "outputs": []
    },
    {
      "cell_type": "code",
      "source": [
        "df1[df1['species']!=df1['predict_species']]"
      ],
      "metadata": {
        "id": "ECDCGLzi5QQG"
      },
      "execution_count": null,
      "outputs": []
    },
    {
      "cell_type": "markdown",
      "source": [
        "\n",
        "By K-means clustering with number of clusters=3 , we are able to cluster 143 species correctly out of 150 species.The cluster Iris-versicolor and Iris-virginica are misclustered."
      ],
      "metadata": {
        "id": "55qMBWWi5W1I"
      }
    }
  ]
}