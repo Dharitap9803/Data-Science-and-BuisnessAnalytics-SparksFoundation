{
  "nbformat": 4,
  "nbformat_minor": 0,
  "metadata": {
    "colab": {
      "private_outputs": true,
      "provenance": []
    },
    "kernelspec": {
      "name": "python3",
      "display_name": "Python 3"
    },
    "language_info": {
      "name": "python"
    }
  },
  "cells": [
    {
      "cell_type": "markdown",
      "source": [
        "Author- Dharita patel\n",
        "\n",
        "Create a storyboard showing spread of Covid-19 cases in your country or any region (Asia, Europe, BRICS etc) using Tableau, Power BI or SAP\n",
        "\n",
        "Dataset: Daily updated .csv file on https://bit.ly/30d2gdi"
      ],
      "metadata": {
        "id": "W9rpUqgQOBIA"
      }
    },
    {
      "source": [
        "import pandas as pd\n",
        "import numpy as np\n",
        "import matplotlib.pyplot as plt\n",
        "from IPython.display import Markdown, display\n",
        "from datetime import datetime as d\n",
        "from ipywidgets import interact,interactive,fixed,interact_manual\n",
        "import ipywidgets as widgets\n",
        "import plotly.graph_objs as go\n",
        "from plotly.offline import iplot, init_notebook_mode\n",
        "import cufflinks\n",
        "from plotly.subplots import make_subplots\n",
        "import dateutil\n",
        "import plotly.express as px\n",
        "import plotly.io as pio\n",
        "import datetime\n",
        "from statistics import mean\n",
        "import datetime as dt\n",
        "import requests\n",
        "from itertools import chain\n",
        "import plotly.graph_objects as go\n",
        "from plotly.subplots import make_subplots\n",
        "import folium\n",
        "from folium import plugins\n",
        "import os\n",
        "import sys\n",
        "from scipy.optimize import curve_fit\n",
        "from sklearn.metrics import mean_squared_log_error\n",
        "from sklearn.metrics import r2_score\n",
        "cufflinks.go_offline(connected=True)\n",
        "init_notebook_mode(connected=True)\n",
        "%matplotlib inline"
      ],
      "cell_type": "code",
      "metadata": {
        "id": "gre9iw7xPDKM"
      },
      "execution_count": null,
      "outputs": []
    },
    {
      "cell_type": "code",
      "source": [
        "full = pd.read_csv(\"/content/owid-covid-data.csv\")\n",
        "full = full[full['new_cases'].notna()]\n",
        "full_ = full.groupby(\"date\", as_index=False)[['new_cases', 'new_deaths']].sum()\n",
        "full_[\"Date\"] = pd.to_datetime(full_['date'])\n",
        "full_['Week_Number'] = full_['Date'].dt.isocalendar().week\n",
        "full__ = full_.groupby(\"Week_Number\", as_index=False)[['new_cases', 'new_deaths']].mean()\n",
        "print(full__.head())"
      ],
      "metadata": {
        "id": "dZ4V-MocPdrH"
      },
      "execution_count": null,
      "outputs": []
    },
    {
      "cell_type": "code",
      "source": [
        "fig = px.bar(full_,x='date', y='new_cases', orientation='v',title = \"COVID19-  daily new cases\",\n",
        "             labels=dict(x=\"Date\", y=\"Count\"))\n",
        "fig.show()"
      ],
      "metadata": {
        "id": "4ADlTKNvcK3n"
      },
      "execution_count": null,
      "outputs": []
    },
    {
      "cell_type": "code",
      "source": [
        "df = df[df['new_cases'].notna()]\n",
        "full_ = df.groupby(\"date\", as_index=False)[['new_cases', 'new_deaths']].sum()\n",
        "full_[\"Date\"] = pd.to_datetime(full_['date'])\n",
        "full_['Week_Number'] = full_['Date'].dt.isocalendar().week\n",
        "full__ = full_.groupby(\"Week_Number\", as_index=False)[['new_cases', 'new_deaths']].mean()\n",
        "print(full__.head())\n",
        "fig = px.line(\n",
        "    x=full__[\"Week_Number\"],\n",
        "    y=full__[\"new_cases\"],\n",
        "    title=\"7-day average of daily new cases\",\n",
        "    labels=dict(x=\"Week\", y=\"Count\")\n",
        ")\n",
        "fig.show()"
      ],
      "metadata": {
        "id": "8mwXLmMjcOIf"
      },
      "execution_count": null,
      "outputs": []
    },
    {
      "cell_type": "code",
      "source": [
        "\n",
        "print(df.columns)\n",
        "\n",
        "# Rename columns if they exist\n",
        "if 'ObservationDate' in df.columns:\n",
        "    df.rename(columns={'ObservationDate': 'Date'}, inplace=True)\n",
        "if 'Province/State' in df.columns:\n",
        "    df.rename(columns={'Province/State': 'Province_State'}, inplace=True)\n",
        "if 'Country/Region' in df.columns:\n",
        "    df.rename(columns={'Country/Region': 'Country_Region'}, inplace=True)\n",
        "if 'Confirmed' in df.columns:\n",
        "    df.rename(columns={'Confirmed': 'ConfirmedCases'}, inplace=True)\n",
        "if 'Deaths' in df.columns:\n",
        "    df.rename(columns={'Deaths': 'Fatalities'}, inplace=True)\n",
        "\n",
        "# Check if 'Country_Region' column exists before modifying\n",
        "if 'Country_Region' in df.columns:\n",
        "    df.loc[df['Country_Region'] == 'Mainland China', 'Country_Region'] = 'China'\n",
        "\n",
        "# Copy the DataFrame for global analysis\n",
        "df_world = df.copy()\n",
        "\n",
        "# Group by 'Date' and sum 'ConfirmedCases', 'Fatalities', and 'Recovered' if columns exist\n",
        "if {'ConfirmedCases', 'Fatalities', 'Recovered'}.issubset(df_world.columns):\n",
        "    df_world = df_world.groupby('Date', as_index=False)[['ConfirmedCases', 'Fatalities', 'Recovered']].sum()\n",
        "else:\n",
        "    print(\"Required columns for grouping do not exist in the DataFrame.\")\n",
        "\n",
        "# Display the result\n",
        "print(df_world.head())\n"
      ],
      "metadata": {
        "id": "UhwwAkUhcWzZ"
      },
      "execution_count": null,
      "outputs": []
    },
    {
      "cell_type": "code",
      "source": [
        "import pandas as pd\n",
        "import plotly.graph_objects as go\n",
        "\n",
        "# Read the data\n",
        "df = pd.read_csv(\"/content/owid-covid-data.csv\")  # Replace with your actual path\n",
        "\n",
        "# Rename columns if they exist\n",
        "if 'ObservationDate' in df.columns:\n",
        "    df.rename(columns={'ObservationDate': 'Date'}, inplace=True)\n",
        "if 'Province/State' in df.columns:\n",
        "    df.rename(columns={'Province/State': 'Province_State'}, inplace=True)\n",
        "if 'Country/Region' in df.columns:\n",
        "    df.rename(columns={'Country/Region': 'Country_Region'}, inplace=True)\n",
        "if 'Confirmed' in df.columns:\n",
        "    df.rename(columns={'Confirmed': 'ConfirmedCases'}, inplace=True)\n",
        "if 'Deaths' in df.columns:\n",
        "    df.rename(columns={'Deaths': 'Fatalities'}, inplace=True)\n",
        "\n",
        "# Check if 'Country_Region' column exists before modifying\n",
        "if 'Country_Region' in df.columns:\n",
        "    df.loc[df['Country_Region'] == 'Mainland China', 'Country_Region'] = 'China'\n",
        "\n",
        "# Copy the DataFrame for global analysis\n",
        "df_world = df.copy()\n",
        "\n",
        "# Ensure columns for grouping exist\n",
        "required_columns = {'date', 'total_cases', 'total_deaths', 'new_cases'}\n",
        "if required_columns.issubset(df_world.columns):\n",
        "    df_world = df_world.groupby('date', as_index=False)[['total_cases', 'total_deaths', 'new_cases']].sum()\n",
        "else:\n",
        "    print(\"Required columns for grouping do not exist in the DataFrame.\")\n",
        "    print(df_world.columns)\n",
        "    raise SystemExit(\"Exiting due to missing columns.\")\n",
        "\n",
        "# Ensure 'date' is in datetime format\n",
        "df_world['date'] = pd.to_datetime(df_world['date'])\n",
        "\n",
        "# Check the first few rows of the DataFrame\n",
        "print(df_world.head())\n",
        "\n",
        "# Define the list of columns to plot\n",
        "l = ['total_cases', 'total_deaths', 'new_cases']\n",
        "\n",
        "# Create the figure\n",
        "fig = go.Figure()\n",
        "\n",
        "# Add traces for each column\n",
        "for column in l:\n",
        "    fig.add_trace(\n",
        "        go.Scatter(\n",
        "            x = df_world['date'],\n",
        "            y = df_world[column],\n",
        "            name = column\n",
        "        )\n",
        "    )\n",
        "\n",
        "# Update layout with buttons for filtering data\n",
        "fig.update_layout(\n",
        "    updatemenus=[go.layout.Updatemenu(\n",
        "        active=0,\n",
        "        buttons=list(\n",
        "            [\n",
        "                dict(label='All',\n",
        "                     method='update',\n",
        "                     args=[{'visible': [True, True, True]},\n",
        "                           {'title': 'All', 'showlegend': True}]),\n",
        "                dict(label='Total Cases',\n",
        "                     method='update',\n",
        "                     args=[{'visible': [True, False, False]},\n",
        "                           {'title': 'Total Cases', 'showlegend': True}]),\n",
        "                dict(label='Total Deaths',\n",
        "                     method='update',\n",
        "                     args=[{'visible': [False, True, False]},\n",
        "                           {'title': 'Total Deaths', 'showlegend': True}]),\n",
        "                dict(label='New Cases',\n",
        "                     method='update',\n",
        "                     args=[{'visible': [False, False, True]},\n",
        "                           {'title': 'New Cases', 'showlegend': True}]),\n",
        "            ])\n",
        "    )]\n",
        ")\n",
        "\n",
        "# Show the plot\n",
        "fig.show()\n",
        "\n"
      ],
      "metadata": {
        "id": "_fyJA8kNg-PY"
      },
      "execution_count": null,
      "outputs": []
    },
    {
      "cell_type": "code",
      "source": [
        "import pandas as pd\n",
        "import plotly.express as px\n",
        "\n",
        "# Load the data\n",
        "df = pd.read_csv(\"/content/owid-covid-data.csv\")  # Replace with your actual path\n",
        "\n",
        "# Print the columns to check their names\n",
        "print(df.columns)\n",
        "\n",
        "# Rename columns if necessary\n",
        "if 'ObservationDate' in df.columns:\n",
        "    df.rename(columns={'ObservationDate': 'date'}, inplace=True)\n",
        "if 'Province/State' in df.columns:\n",
        "    df.rename(columns={'Province/State': 'Province_State'}, inplace=True)\n",
        "if 'Country/Region' in df.columns:\n",
        "    df.rename(columns={'Country/Region': 'Country_Region'}, inplace=True)\n",
        "if 'Confirmed' in df.columns:\n",
        "    df.rename(columns={'Confirmed': 'ConfirmedCases'}, inplace=True)\n",
        "if 'Deaths' in df.columns:\n",
        "    df.rename(columns={'Deaths': 'Fatalities'}, inplace=True)\n",
        "\n",
        "# Print the columns again to ensure renaming is done\n",
        "print(df.columns)\n",
        "\n",
        "# Ensure the date column is in datetime format\n",
        "df['date'] = pd.to_datetime(df['date'])\n",
        "\n",
        "# Get the last date in the dataset\n",
        "last_date = df['date'].max()\n",
        "\n",
        "# Filter the DataFrame for the last date\n",
        "df_countries = df[df['date'] == last_date]\n",
        "\n",
        "# Group by 'Country_Region' and aggregate the necessary columns\n",
        "df_countries = df_countries.groupby('location', as_index=False)[['total_cases', 'total_deaths', 'new_cases']].sum()\n",
        "\n",
        "# Sort the DataFrame by 'total_cases' in descending order\n",
        "df_countries = df_countries.sort_values(by='total_cases', ascending=False)\n",
        "\n",
        "# Prepare the DataFrame for the top 5 countries trend\n",
        "df_trend = df.groupby(['date', 'location'], as_index=False)[['total_cases', 'total_deaths', 'new_cases']].sum()\n",
        "\n",
        "# Filter the DataFrame for the top 5 worst affected countries\n",
        "top5_countries = ['United States', 'Brazil', 'India', 'Russia', 'Colombia']\n",
        "top5 = df_trend[df_trend['location'].isin(top5_countries)]\n",
        "\n",
        "# Create the line plot using plotly\n",
        "figa = px.line(top5, x='date', y='total_cases', color='location', title='COVID19 - Top 5 Worst Affected Countries')\n",
        "\n",
        "# Show the plot\n",
        "figa.show()\n",
        "\n"
      ],
      "metadata": {
        "id": "O2_ZazZykl46"
      },
      "execution_count": null,
      "outputs": []
    },
    {
      "cell_type": "code",
      "source": [
        "\n",
        "df['date'] = pd.to_datetime(df['date'])\n",
        "\n",
        "# Get the last date in the dataset\n",
        "last_date = df['date'].max()\n",
        "\n",
        "# Filter the DataFrame for the last date\n",
        "df_countries = df[df['date'] == last_date]\n",
        "\n",
        "# Group by 'location' and aggregate the necessary columns\n",
        "df_countries = df_countries.groupby('location', as_index=False)[['total_cases', 'total_deaths', 'new_cases']].sum()\n",
        "\n",
        "# Sort the DataFrame by 'total_deaths' in descending order\n",
        "df_countries_fatal = df_countries.sort_values(by='total_deaths', ascending=False)\n",
        "\n",
        "# Prepare the DataFrame for the top 5 countries trend\n",
        "df_trend = df.groupby(['date', 'location'], as_index=False)[['total_cases', 'total_deaths', 'new_cases']].sum()\n",
        "\n",
        "# Filter the DataFrame for the top 5 countries with the highest number of deaths\n",
        "top5_f_countries = ['United States', 'Brazil', 'India', 'Mexico', 'United Kingdom']\n",
        "top5_f = df_trend[df_trend['location'].isin(top5_f_countries)]\n",
        "\n",
        "# Create the line plot using plotly\n",
        "figb = px.line(top5_f, x='date', y='total_deaths', color='location', title='COVID-19 - Top 5 Countries with Highest Number of Deaths')\n",
        "\n",
        "# Show the plot\n",
        "figb.show()\n"
      ],
      "metadata": {
        "id": "jBsl75iwmtvJ"
      },
      "execution_count": null,
      "outputs": []
    },
    {
      "cell_type": "markdown",
      "source": [
        "SPREAD OF COVID19 IN INDIA"
      ],
      "metadata": {
        "id": "tZRXpjBcnMog"
      }
    },
    {
      "cell_type": "code",
      "source": [
        "d1 = pd.read_csv('/content/state_wise.csv')\n",
        "\n",
        "d1['COVID_SPREAD'] = 'Recovered: ' + d1['Recovered'].astype(str) +'  Deceased: ' + d1['Deaths'].astype(str)\n",
        "d11 = d1.drop(0,)\n",
        "\n",
        "\n",
        "cord = pd.read_csv(\"/content/Indian Coordinates.csv\")\n",
        "cord.rename(columns={\"Name of State / UT\" :\"State\"},inplace = True)\n",
        "cord = cord.drop(7).reset_index()\n",
        "cord[\"State\"]= cord[\"State\"].replace({\"Delhi\": \"NCT of Delhi\", \"Andaman and Nicobar\" : \"Andaman and Nicobar Island\" , \"Pondicherry\" : \"Puducherry\", \"Arunachal Pradesh\":\"Arunanchal Pradesh\"  })\n",
        "final = pd.merge(d11,cord,on = \"State\")\n",
        "final[\"Confirmed\"] = final[\"Confirmed\"].astype(float)"
      ],
      "metadata": {
        "id": "kQSFz0h_kLaW"
      },
      "execution_count": null,
      "outputs": []
    },
    {
      "cell_type": "code",
      "source": [
        "m = folium.Map(location=[20,80], tiles=\"Stamen Terrain\", zoom_start=4)\n",
        "\n",
        "for Latitude, Longitude, State, Confirmed in zip(final.Latitude, final.Longitude ,final.State,final.Confirmed):\n",
        "        folium.features.CircleMarker(\n",
        "            [Latitude,Longitude],\n",
        "            radius=Confirmed/20000,\n",
        "            popup = ('<strong>State</strong>: ' + str(State).capitalize() + '<br>'\n",
        "                                '<strong>Confirmed Cases</strong>: ' + str(Confirmed) + '<br>'),\n",
        "            color='yellow',\n",
        "            fill=True,\n",
        "            fill_color='red',\n",
        "            fill_opacity=0.6\n",
        "        ).add_to(m)\n",
        "m\n"
      ],
      "metadata": {
        "id": "mX4yKI3isIl9"
      },
      "execution_count": null,
      "outputs": []
    },
    {
      "cell_type": "code",
      "source": [
        "import pandas as pd\n",
        "import plotly.graph_objects as go\n",
        "\n",
        "# Load the data\n",
        "tri = pd.read_csv(\"//content/case_time_series.csv.xls\")\n",
        "\n",
        "# Check if the DataFrame has at least one row\n",
        "if not tri.empty:\n",
        "    # Get the last row of the DataFrame\n",
        "    t = tri.tail(1).copy()\n",
        "    t['country'] = \"India\"  # Add a new column for the country\n",
        "\n",
        "    # Create the figure\n",
        "    fig = go.Figure()\n",
        "\n",
        "    # Add traces for different metrics\n",
        "    fig.add_trace(go.Bar(\n",
        "        y=t[\"country\"],\n",
        "        x=t[\"Total Confirmed\"],\n",
        "        name=\"Confirmed\",\n",
        "        orientation='h',\n",
        "        marker=dict(\n",
        "            color='rgba(2, 199, 99, 0.6)',\n",
        "            line=dict(color='rgba(2, 199, 99,0.6)', width=0.5)\n",
        "        )\n",
        "    ))\n",
        "    fig.add_trace(go.Bar(\n",
        "        y=t[\"country\"],\n",
        "        x=t[\"Total Recovered\"],\n",
        "        name=\"Recovered\",\n",
        "        orientation='h',\n",
        "        marker=dict(\n",
        "            color='rgba(246, 78, 139, 0.6)',\n",
        "            line=dict(color='rgba(246, 78, 139, 1.0)', width=0.5)\n",
        "        )\n",
        "    ))\n",
        "    fig.add_trace(go.Bar(\n",
        "        y=t[\"country\"],\n",
        "        x=t[\"Total Deceased\"],\n",
        "        name=\"Deceased\",\n",
        "        orientation='h',\n",
        "        marker=dict(\n",
        "            color='rgba(58, 71, 80, 0.6)',\n",
        "            line=dict(color='rgba(58, 71, 80, 1.0)', width=0.5)\n",
        "        )\n",
        "    ))\n",
        "\n",
        "    # Update layout\n",
        "    fig.update_layout(barmode='stack')\n",
        "\n",
        "    # Show the plot\n",
        "    fig.show()\n",
        "else:\n",
        "    print(\"DataFrame is empty. No data to plot.\")\n",
        "\n"
      ],
      "metadata": {
        "id": "CJCtiFZbsR4b"
      },
      "execution_count": null,
      "outputs": []
    },
    {
      "cell_type": "code",
      "source": [
        "\n",
        "fig = px.bar(\n",
        "    tri,\n",
        "    x='Date',  # Replace 'Date_YMD' with 'Date'\n",
        "    y='Daily Confirmed',\n",
        "    orientation='v',\n",
        "    title=\"Daily new COVID19 cases in India\"\n",
        ")\n",
        "\n",
        "# Update layout\n",
        "fig.update_layout(bargap=0)\n",
        "\n",
        "# Show the plot\n",
        "fig.show()\n",
        "print(tri.columns)\n"
      ],
      "metadata": {
        "id": "0kIgtDSJx1Sc"
      },
      "execution_count": null,
      "outputs": []
    },
    {
      "cell_type": "code",
      "source": [
        "import pandas as pd\n",
        "import plotly.graph_objects as go\n",
        "\n",
        "# Load the data\n",
        "tri = pd.read_csv(\"/content/case_time_series.csv.xls\")\n",
        "\n",
        "# Print column names to verify\n",
        "print(tri.columns.to_list())\n",
        "\n",
        "# Specify columns directly by name\n",
        "columns_to_plot = ['Total Confirmed', 'Total Recovered', 'Total Deceased']\n",
        "\n",
        "# Create the figure\n",
        "fig = go.Figure()\n",
        "\n",
        "# Add traces for each specified column\n",
        "for column in columns_to_plot:\n",
        "    if column in tri.columns:\n",
        "        fig.add_trace(\n",
        "            go.Scatter(\n",
        "                x=tri['Date'],\n",
        "                y=tri[column],\n",
        "                name=column,\n",
        "            )\n",
        "        )\n",
        "    else:\n",
        "        print(f\"Column {column} does not exist in DataFrame.\")\n",
        "\n",
        "# Update layout with dropdown buttons\n",
        "fig.update_layout(\n",
        "    updatemenus=[go.layout.Updatemenu(\n",
        "        active=0,\n",
        "        buttons=list([\n",
        "            dict(label='All',\n",
        "                 method='update',\n",
        "                 args=[{'visible': [column in columns_to_plot for column in tri.columns]},\n",
        "                       {'title': 'All',\n",
        "                        'showlegend': True}]),\n",
        "            dict(label='Total Confirmed',\n",
        "                 method='update',\n",
        "                 args=[{'visible': [column == 'Total Confirmed' for column in columns_to_plot]},\n",
        "                       {'title': 'Total Confirmed',\n",
        "                        'showlegend': True}]),\n",
        "            dict(label='Total Recovered',\n",
        "                 method='update',\n",
        "                 args=[{'visible': [column == 'Total Recovered' for column in columns_to_plot]},\n",
        "                       {'title': 'Total Recovered',\n",
        "                        'showlegend': True}]),\n",
        "            dict(label='Total Deceased',\n",
        "                 method='update',\n",
        "                 args=[{'visible': [column == 'Total Deceased' for column in columns_to_plot]},\n",
        "                       {'title': 'Total Deceased',\n",
        "                        'showlegend': True}]),\n",
        "        ])\n",
        "    )\n",
        "])\n",
        "\n",
        "# Show the plot\n",
        "fig.show()\n"
      ],
      "metadata": {
        "id": "86GYMKIWyaTs"
      },
      "execution_count": null,
      "outputs": []
    },
    {
      "cell_type": "markdown",
      "source": [
        "PREDICT NO. OF CONFIRMED CASES IN INDIA FOR FIRST WEEK OF NOVEMBER\n",
        "Fit a logistic curve for total(cumulative) confirmed cases in India. Then predict from 1/11/20 to 7/11/20"
      ],
      "metadata": {
        "id": "5w1M60l0zhza"
      }
    },
    {
      "cell_type": "code",
      "source": [
        "##fit a logistic curve for total confirmed cases in India. Then predict from 1/11/20 to 7/11/20\n",
        "test = tri.tail(7)\n",
        "tr = tri[0:276]"
      ],
      "metadata": {
        "id": "R-M5Kot4zjB5"
      },
      "execution_count": null,
      "outputs": []
    },
    {
      "cell_type": "code",
      "source": [
        "##fit a logistic curve for total confirmed cases in India. Then predict from 1/11/20 to 7/11/20\n",
        "test = tri.tail(7)\n",
        "tr = tri[0:276]"
      ],
      "metadata": {
        "id": "kDnpQD8bzo_B"
      },
      "execution_count": null,
      "outputs": []
    },
    {
      "cell_type": "code",
      "source": [
        "##no. of days from first case\n",
        "x_data = range(len(tr.index))\n",
        "x = [number for number in x_data]\n",
        "y_data = tr['Total Confirmed']"
      ],
      "metadata": {
        "id": "1xGa2iFTzsJo"
      },
      "execution_count": null,
      "outputs": []
    },
    {
      "cell_type": "code",
      "source": [
        "def log_curve(x, k, x_0, ymax):\n",
        "    return ymax / (1 + np.exp(-k*(x-x_0)))"
      ],
      "metadata": {
        "id": "b4cmtbLW0fyX"
      },
      "execution_count": null,
      "outputs": []
    },
    {
      "cell_type": "code",
      "source": [
        "# Fit the curve\n",
        "parameters, v_cov = curve_fit(log_curve, x, y_data)\n",
        "print(\" \", parameters,\"\\n\", v_cov)"
      ],
      "metadata": {
        "id": "ghQzHX3-0jBn"
      },
      "execution_count": null,
      "outputs": []
    },
    {
      "cell_type": "code",
      "source": [
        "k = parameters[0]\n",
        "x_0 = parameters[1]\n",
        "ymax = parameters[2]\n",
        "y_fitted = log_curve(x_data, k, x_0, ymax)"
      ],
      "metadata": {
        "id": "LwrHXR7m0oTq"
      },
      "execution_count": null,
      "outputs": []
    },
    {
      "cell_type": "code",
      "source": [
        "\tfig=go.Figure()\n",
        "fig.add_trace(go.Scatter(x=x,\n",
        "                         y=y_data,\n",
        "                         mode='markers',\n",
        "                         name = 'no. of  cases')\n",
        "             )\n",
        "\n",
        "\n",
        "fig.add_trace(go.Scatter(x=x,\n",
        "                         y=y_fitted,\n",
        "                         mode='lines',\n",
        "                         name='fitted',\n",
        "                        ))\n",
        "\n",
        "fig.show()"
      ],
      "metadata": {
        "id": "oDeDvq2F0r3w"
      },
      "execution_count": null,
      "outputs": []
    },
    {
      "cell_type": "code",
      "source": [
        "xtest = np.arange(276,283,1)\n",
        "ytest = test[\"Total Confirmed\"]\n",
        "y_fit = log_curve(xtest, k, x_0, ymax)\n",
        "fig=go.Figure()\n",
        "fig.add_trace(go.Scatter(x=xtest,\n",
        "                         y=ytest,\n",
        "                         mode='lines',\n",
        "                         name = 'No. of cases')\n",
        "             )\n",
        "\n",
        "# regression data\n",
        "fig.add_trace(go.Scatter(x=xtest,\n",
        "                         y=y_fit,\n",
        "                         mode='lines',\n",
        "                         name='Predicted',\n",
        "                         line=dict(color='firebrick', width=2)\n",
        "                        ))\n",
        "\n",
        "fig.show()"
      ],
      "metadata": {
        "id": "RMus6LN40wji"
      },
      "execution_count": null,
      "outputs": []
    },
    {
      "cell_type": "code",
      "source": [
        "##fitting metrics\n",
        "MSLE = mean_squared_log_error(ytest,y_fit)\n",
        "print(\"Mean squared log error (MSLE): \", '{:.6f}'.format(MSLE))\n",
        "print(\"R2 score: \", '{:.3f}'.format(r2_score(ytest,y_fit)))"
      ],
      "metadata": {
        "id": "UlEU81WH00MG"
      },
      "execution_count": null,
      "outputs": []
    },
    {
      "cell_type": "code",
      "source": [
        "import pandas as pd\n",
        "import json\n",
        "import plotly.express as px\n",
        "\n",
        "# Load state-wise data\n",
        "d1 = pd.read_csv('state_wise.csv')\n",
        "d1['COVID_SPREAD'] = 'Recovered: ' + d1['Recovered'].astype(str) + '  Deceased: ' + d1['Deaths'].astype(str)\n",
        "d11 = d1.drop(0,)\n",
        "d11[\"State\"] = d11[\"State\"].replace({\"Delhi\": \"NCT of Delhi\",\n",
        "                                      \"Jammu and Kashmir\" : \"Jammu & Kashmir\",\n",
        "                                      \"Arunachal Pradesh\" : \"Arunanchal Pradesh\",\n",
        "                                      \"Andaman and Nicobar Islands\" : \"Andaman & Nicobar Island\"})\n",
        "\n",
        "# Load and process GeoJSON file\n",
        "try:\n",
        "    with open(\"/content/states_india.geojson\", 'r') as file:\n",
        "        states = json.load(file)\n",
        "except json.JSONDecodeError as e:\n",
        "    print(f\"Error loading JSON: {e}\")\n",
        "    states = None\n",
        "except FileNotFoundError:\n",
        "    print(\"GeoJSON file not found.\")\n",
        "    states = None\n",
        "\n",
        "if states:\n",
        "    state_id_map = {}\n",
        "    for feature in states['features']:\n",
        "        feature['id'] = feature['properties']['state_code']\n",
        "        state_id_map[feature['properties']['st_nm']] = feature['id']\n",
        "\n",
        "    # Remove specific entries if needed\n",
        "    state_id_map.pop('Dadara & Nagar Havelli', None)\n",
        "    state_id_map.pop('Daman & Diu', None)\n",
        "\n",
        "    # Add 'id' column based on the state mapping\n",
        "    d11['id'] = d11['State'].apply(lambda x: state_id_map.get(x, None))\n",
        "    d11['Mortality Rate%'] = round((d11.Deaths / d11.Confirmed) * 100, 2)\n",
        "\n",
        "    # Plotting\n",
        "    figg = px.choropleth(d11, geojson=states, color=\"Confirmed\",\n",
        "                        locations='id',\n",
        "                        hover_name='State',\n",
        "                        hover_data=[\"Mortality Rate%\", 'Confirmed', 'Recovered', 'Deaths', 'Active'],\n",
        "                        title='COVID19 SPREAD IN INDIA'\n",
        "                       )\n",
        "    figg.update_geos(fitbounds=\"locations\", visible=True)\n",
        "    figg.update_geos(projection_type=\"orthographic\")\n",
        "    figg.update_layout(height=600, margin={\"r\":0, \"t\":30, \"l\":0, \"b\":30})\n",
        "    figg.show()\n",
        "else:\n",
        "    print(\"GeoJSON data not loaded; skipping plotting.\")\n"
      ],
      "metadata": {
        "id": "skdoMh3f042R"
      },
      "execution_count": null,
      "outputs": []
    },
    {
      "cell_type": "code",
      "source": [
        "d111 = d11.sort_values(by = \"Mortality Rate%\",ascending = False).head(10)\n",
        "f= px.bar(d111, x=\"State\", y=\"Mortality Rate%\")\n",
        "f.show()\n",
        "import plotly.graph_objects as go\n",
        "ds = d1.drop(0,)\n",
        "ds = ds.sort_values(by = 'Confirmed')\n",
        "dss = ds.tail(10)\n",
        "\n",
        "fig = go.Figure()\n",
        "fig.add_trace(go.Bar(\n",
        "    y=dss[\"State\"],\n",
        "    x=dss[\"Deaths\"],\n",
        "    name = \"Deceased\",\n",
        "    orientation='h',\n",
        "    marker=dict(\n",
        "        color='rgba(2, 199, 99, 0.6)',\n",
        "        line=dict(color='rgba(2, 199, 99,0.6)', width=3)\n",
        "    )\n",
        "\n",
        "))\n",
        "fig.add_trace(go.Bar(\n",
        "    y=dss[\"State\"],\n",
        "    x=dss[\"Recovered\"],\n",
        "    name = \"Recovered\",\n",
        "    orientation='h',\n",
        "    marker=dict(\n",
        "        color='rgba(246, 78, 139, 0.6)',\n",
        "        line=dict(color='rgba(246, 78, 139, 1.0)', width=3)\n",
        "    )\n",
        "))\n",
        "fig.add_trace(go.Bar(\n",
        "    y=dss[\"State\"],\n",
        "    x=dss[\"Confirmed\"],\n",
        "    name = \"Confirmed\",\n",
        "    orientation='h',\n",
        "    marker=dict(\n",
        "        color='rgba(58, 71, 80, 0.6)',\n",
        "        line=dict(color='rgba(58, 71, 80, 1.0)', width=3)\n",
        "    )\n",
        "\n",
        "))\n",
        "\n",
        "\n",
        "fig.update_layout(barmode='stack')\n",
        "fig.show()"
      ],
      "metadata": {
        "id": "MV0XaWOz2Fqh"
      },
      "execution_count": null,
      "outputs": []
    },
    {
      "cell_type": "code",
      "source": [
        "##top5 states where testing is maximum\n",
        "tes = pd.read_csv(\"/content/StatewiseTestingDetails.csv\")\n",
        "tes1 = tes[tes['TotalSamples' ].notnull()]\n",
        "tes2 = tes1[tes1['Positive'].notnull()]\n",
        "tess = tes.groupby('State' ,as_index=False)[['TotalSamples','Positive']].max()\n",
        "tess = tess.sort_values(by = 'TotalSamples').tail(10)\n",
        "import plotly.graph_objects as go\n",
        "\n",
        "fig = go.Figure()\n",
        "fig.add_trace(go.Bar(\n",
        "    y=tess[\"State\"],\n",
        "    x=tess[\"TotalSamples\"],\n",
        "    name = \"Total tested\",\n",
        "    orientation='h',\n",
        "    marker=dict(\n",
        "        color='rgba(1130, 199, 99, 0.6)',\n",
        "        line=dict(color='rgba(1130, 199, 99, 0.6)', width=3)\n",
        "    )\n",
        "))\n",
        "fig.add_trace(go.Bar(\n",
        "    y=tess[\"State\"],\n",
        "    x=tess[\"Positive\"],\n",
        "    name = \"Positive\",\n",
        "    orientation='h',\n",
        "    marker=dict(\n",
        "        color='rgba(900, 71, 80, 0.6)',\n",
        "        line=dict(color='rgba(900, 71, 80, 1.0)', width=3)\n",
        "    )\n",
        "))\n",
        "\n",
        "fig.update_layout(barmode='stack')\n",
        "fig.show()\n",
        "pos = pd.read_csv(\"/content/ICMR_Testing_Data.csv\")\n",
        "fig = px.line(pos, x=\"day\", y=\"positive_ratio\", title='Test Positivity ratio for Mar-May')\n",
        "fig.show()\n"
      ],
      "metadata": {
        "id": "5Vkc-6Zm2pMO"
      },
      "execution_count": null,
      "outputs": []
    }
  ]
}